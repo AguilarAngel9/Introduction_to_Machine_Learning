{
 "cells": [
  {
   "cell_type": "markdown",
   "id": "3328da12",
   "metadata": {},
   "source": [
    "# Singular Value Decomposition"
   ]
  },
  {
   "cell_type": "markdown",
   "id": "c5bac536",
   "metadata": {},
   "source": [
    "Imagine that we have a large data set given by $\\textbf{X} \\in \\mathbb{C}^{n\\times m}$, $$\\textbf{X} = \\begin{bmatrix}| & | & \\dots & |\\\\x_{1} & x_{2} & \\dots & x_{m}\\\\ | & | & \\dots & | \\end{bmatrix}$$ where the columns $x_{k} \\in \\mathbb{C}^{n}$ may be measurements from simulations or experiements. Often the state-dimension $n$ it's very large, thousands of degrees of freedom. The columns are called *snapshots* and there are $m$ number of *snapshots* in $\\textbf{X}$. We shall assume that $n \\gg m$, resulting in a *tall-skinny* matrix.<br>\n",
    "\n",
    "The **SVD** is a unique matrix decomposition that exists fior every complex-value matrix $\\textbf{X} \\in \\mathbb{C}^{n\\times m}$: $$\\textbf{X} = U\\Sigma V^{*}$$ where $\\mathbb{U} \\in \\mathbb{C}^{n\\times n}$ and $\\mathbb{V} \\in \\mathbb{C}^{m\\times m}$ are unitary matrices with orthonormal columns, and $\\Sigma \\in \\mathbb{R}^{n\\times m}$ is a matrix with real, non-negative entries on the diagonal and zeros off the diagonal. Here * denotes complex conjugate transpose.<br>\n",
    "\n",
    "When $n \\geq m$, the matrix $\\Sigma$ has at most $m$ non-zero elements in the diogonal, and may be written as $\\Sigma = \\begin{bmatrix}\\hat{\\Sigma}\\\\ 0\\end{bmatrix}$, then $\\textbf{X}$ $$\\textbf{X} = U\\Sigma V^{*} = \\begin{bmatrix}\\hat{U}\\hat{U}^{\\perp}\\end{bmatrix}\\begin{bmatrix}\\hat{\\Sigma}\\\\ 0\\end{bmatrix}\\textbf{V}^{*} = \\hat{U}\\hat{\\Sigma}\\textbf{V}^{*}$$"
   ]
  },
  {
   "cell_type": "markdown",
   "id": "72cf4aa1",
   "metadata": {},
   "source": [
    "Notes:\n",
    "- A square matrix $\\textbf{U}$ is unitary if $\\textbf{U}\\textbf{U}^{*} = \\textbf{I}$\n",
    "- For real-valued matrices, $\\textbf{X*} = \\textbf{X}^{T}$"
   ]
  }
 ],
 "metadata": {
  "kernelspec": {
   "display_name": "Python 3",
   "language": "python",
   "name": "python3"
  },
  "language_info": {
   "codemirror_mode": {
    "name": "ipython",
    "version": 3
   },
   "file_extension": ".py",
   "mimetype": "text/x-python",
   "name": "python",
   "nbconvert_exporter": "python",
   "pygments_lexer": "ipython3",
   "version": "3.8.10"
  }
 },
 "nbformat": 4,
 "nbformat_minor": 5
}
